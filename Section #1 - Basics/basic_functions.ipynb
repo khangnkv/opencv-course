{
 "cells": [
  {
   "cell_type": "code",
   "execution_count": 1,
   "metadata": {},
   "outputs": [
    {
     "data": {
      "text/plain": [
       "-1"
      ]
     },
     "execution_count": 1,
     "metadata": {},
     "output_type": "execute_result"
    }
   ],
   "source": [
    "import cv2 as cv\n",
    "import matplotlib.pyplot as plt\n",
    "import numpy as np\n",
    "img = cv.imread('C:/Users/Khang/Documents/GitHub/opencv-course/Resources/Photos/cat.jpg')\n",
    "cv.imshow('Cat', img)\n",
    "cv.waitKey(0)\n"
   ]
  },
  {
   "cell_type": "code",
   "execution_count": 1,
   "metadata": {},
   "outputs": [],
   "source": [
    "import cv2 as cv\n",
    "import matplotlib.pyplot as plt\n",
    "\n",
    "capture = cv.VideoCapture('C:/Users/Khang/Documents/GitHub/opencv-course/Resources/Videos/dog.mp4')\n",
    "\n",
    "if not capture.isOpened():\n",
    "    print(\"Error: Could not open video.\")\n",
    "else:\n",
    "    while True:\n",
    "        isTrue, frame = capture.read()\n",
    "        \n",
    "        if not isTrue:\n",
    "            print(\"Error: Could not read frame.\")\n",
    "            break\n",
    "        \n",
    "        cv.imshow('Video', frame)\n",
    "\n",
    "        if cv.waitKey(20) & 0xFF == ord('d'):\n",
    "            break\n",
    "\n",
    "    capture.release()\n",
    "    cv.destroyAllWindows()\n"
   ]
  },
  {
   "cell_type": "code",
   "execution_count": 2,
   "metadata": {},
   "outputs": [
    {
     "data": {
      "text/plain": [
       "-1"
      ]
     },
     "execution_count": 2,
     "metadata": {},
     "output_type": "execute_result"
    }
   ],
   "source": [
    "import cv2 as cv\n",
    "img = cv.imread('C:/Users/Khang/Documents/GitHub/opencv-course/Resources/Photos/cat_large.jpg')\n",
    "#cv.imshow('Cat', img)\n",
    "def rescaleFrame(frame, scale=0.75):\n",
    "    \n",
    "    width = int(frame.shape[1] * scale)\n",
    "    height = int(frame.shape[0] * scale)\n",
    "    dimensions = (width, height)\n",
    "    return cv.resize(frame, dimensions, interpolation=cv.INTER_AREA)\n",
    "\n",
    "cv.waitKey(0)"
   ]
  },
  {
   "cell_type": "code",
   "execution_count": 3,
   "metadata": {},
   "outputs": [],
   "source": [
    "import cv2 as cv\n",
    "import matplotlib.pyplot as plt\n",
    "\n",
    "capture = cv.VideoCapture('C:/Users/Khang/Documents/GitHub/opencv-course/Resources/Videos/dog.mp4')\n",
    "\n",
    "if not capture.isOpened():\n",
    "    print(\"Error: Could not open video.\")\n",
    "else:\n",
    "    while True:\n",
    "        isTrue, frame = capture.read()\n",
    "        \n",
    "        frame_resized = rescaleFrame(frame)\n",
    "\n",
    "        if not isTrue:\n",
    "            print(\"Error: Could not read frame.\")\n",
    "            break\n",
    "        \n",
    "        cv.imshow('Video', frame)\n",
    "        cv.imshow('Video Resized', frame_resized)   \n",
    "        if cv.waitKey(20) & 0xFF == ord('d'):\n",
    "            break\n",
    "\n",
    "    capture.release()\n",
    "    cv.destroyAllWindows()\n"
   ]
  },
  {
   "cell_type": "code",
   "execution_count": 1,
   "metadata": {},
   "outputs": [
    {
     "data": {
      "text/plain": [
       "-1"
      ]
     },
     "execution_count": 1,
     "metadata": {},
     "output_type": "execute_result"
    }
   ],
   "source": [
    "import cv2 as cv\n",
    "import matplotlib.pyplot as plt\n",
    "import numpy as np\n",
    "img = cv.imread('C:/Users/Khang/Documents/GitHub/opencv-course/Resources/Photos/cat.jpg')\n",
    "cv.imshow('Cat', img)\n",
    "\n",
    "blank = np.zeros((500, 500, 3), dtype='uint8') \n",
    "cv.imshow('Blank', blank)\n",
    "\n",
    "blank[200:300, 300:400] = 0, 0, 255\n",
    "cv.imshow('Red', blank)\n",
    "\n",
    "cv.rectangle(blank, (0, 0), (blank.shape[1]//2, blank.shape[0]//2), (0, 255, 0), thickness=-1)\n",
    "cv.imshow('Rectangle', blank)\n",
    "\n",
    "cv.circle(blank, (blank.shape[1]//2, blank.shape[0]//2), 40, (0, 0, 255), thickness=3)\n",
    "cv.imshow('Circle', blank)\n",
    "\n",
    "cv.line(blank, (100, 250), (300, 400), (255, 255, 255), thickness=3)\n",
    "cv.imshow('Line', blank)\n",
    "\n",
    "cv.putText(blank, 'Hello', (255, 255), cv.FONT_HERSHEY_TRIPLEX, 1.0, (0, 255, 0), 2)\n",
    "cv.imshow('Text', blank)\n",
    "cv.waitKey(0)"
   ]
  },
  {
   "cell_type": "code",
   "execution_count": 7,
   "metadata": {},
   "outputs": [
    {
     "data": {
      "text/plain": [
       "-1"
      ]
     },
     "execution_count": 7,
     "metadata": {},
     "output_type": "execute_result"
    }
   ],
   "source": [
    "import cv2 as cv\n",
    "img = cv.imread('C:/Users/Khang/Documents/GitHub/opencv-course/Resources/Photos/park.jpg')\n",
    "cv.imshow('Cat', img)\n",
    "#grayscale image\n",
    "gray = cv.cvtColor(img, cv.COLOR_BGR2GRAY)\n",
    "cv.imshow('Gray', gray)\n",
    "#blur image\n",
    "blur = cv.GaussianBlur(img, (7, 7), cv.BORDER_DEFAULT)\n",
    "cv.imshow('Blur', blur)\n",
    "#edge Cascade\n",
    "canny = cv.Canny(blur, 125, 175)\n",
    "cv.imshow('Canny', canny)\n",
    "#dilated image\n",
    "dilated = cv.dilate(canny, (3,3), iterations=3)\n",
    "cv.imshow('Dilated', dilated)\n",
    "#eroded image\n",
    "eroded = cv.erode(dilated, (3,3), iterations=3)\n",
    "cv.imshow('Eroded', eroded)\n",
    "cv.waitKey(0)"
   ]
  }
 ],
 "metadata": {
  "kernelspec": {
   "display_name": "py310",
   "language": "python",
   "name": "python3"
  },
  "language_info": {
   "codemirror_mode": {
    "name": "ipython",
    "version": 3
   },
   "file_extension": ".py",
   "mimetype": "text/x-python",
   "name": "python",
   "nbconvert_exporter": "python",
   "pygments_lexer": "ipython3",
   "version": "3.10.14"
  }
 },
 "nbformat": 4,
 "nbformat_minor": 2
}
